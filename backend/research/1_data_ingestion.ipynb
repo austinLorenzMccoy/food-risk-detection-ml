{
 "cells": [
  {
   "cell_type": "code",
   "execution_count": 1,
   "metadata": {},
   "outputs": [],
   "source": [
    "import os"
   ]
  },
  {
   "cell_type": "code",
   "execution_count": 2,
   "metadata": {},
   "outputs": [
    {
     "data": {
      "text/plain": [
       "'/Users/a/Documents/DataScience_World/ML10_end_to_end/dsproject/CompleteDSproject/research'"
      ]
     },
     "execution_count": 2,
     "metadata": {},
     "output_type": "execute_result"
    }
   ],
   "source": [
    "%pwd"
   ]
  },
  {
   "cell_type": "code",
   "execution_count": 3,
   "metadata": {},
   "outputs": [
    {
     "data": {
      "text/plain": [
       "'/Users/a/Documents/DataScience_World/ML10_end_to_end/dsproject/CompleteDSproject'"
      ]
     },
     "execution_count": 3,
     "metadata": {},
     "output_type": "execute_result"
    }
   ],
   "source": [
    "os.chdir(\"../\")\n",
    "%pwd\n"
   ]
  },
  {
   "cell_type": "code",
   "execution_count": 4,
   "metadata": {},
   "outputs": [],
   "source": [
    "from dataclasses import dataclass\n",
    "from pathlib import Path\n",
    "\n",
    "@dataclass\n",
    "class DataIngestionConfig:\n",
    "    root_dir: Path\n",
    "    source_URL: str\n",
    "    local_data_file: Path"
   ]
  },
  {
   "cell_type": "code",
   "execution_count": 5,
   "metadata": {},
   "outputs": [],
   "source": [
    "from src.datascience.constants import *\n",
    "from src.datascience.utils.common import read_yaml, create_directories"
   ]
  },
  {
   "cell_type": "code",
   "execution_count": 6,
   "metadata": {},
   "outputs": [],
   "source": [
    "from dataclasses import dataclass\n",
    "from pathlib import Path\n",
    "\n",
    "@dataclass\n",
    "class DataIngestionConfig:\n",
    "    root_dir: Path\n",
    "    source_URL: str\n",
    "    local_data_file: Path\n",
    "\n",
    "class ConfigurationManager:\n",
    "    def __init__(self, \n",
    "                 config_filepath=CONFIG_FILE_PATH,\n",
    "                 params_filepath=PARAMS_FILE_PATH,\n",
    "                 schema_filepath=SCHEMA_FILE_PATH):\n",
    "        \n",
    "        self.config = read_yaml(config_filepath)\n",
    "        self.params = read_yaml(params_filepath)\n",
    "        self.schema = read_yaml(schema_filepath)\n",
    "\n",
    "        create_directories([self.config.artifacts_root])\n",
    "\n",
    "    def get_data_ingestion_config(self) -> DataIngestionConfig:\n",
    "        config = self.config.data_ingestion\n",
    "\n",
    "        create_directories([config.root_dir])\n",
    "\n",
    "        data_ingestion_config = DataIngestionConfig(\n",
    "            root_dir=config.root_dir,\n",
    "            source_URL=config.source_URL,\n",
    "            local_data_file=config.local_data_file\n",
    "        )\n",
    "\n",
    "        return data_ingestion_config"
   ]
  },
  {
   "cell_type": "code",
   "execution_count": 7,
   "metadata": {},
   "outputs": [],
   "source": [
    "import os\n",
    "import logging\n",
    "import urllib.request as request\n",
    "import urllib.error\n",
    "from os.path import getsize\n",
    "import pandas as pd\n",
    "from pathlib import Path\n",
    "from typing import Tuple\n",
    "\n",
    "class DataIngestionError(Exception):\n",
    "    \"\"\"Custom exception for data ingestion errors\"\"\"\n",
    "    pass\n",
    "\n",
    "class DataIngestion:\n",
    "    def __init__(self, config: DataIngestionConfig):\n",
    "        self.config = config\n",
    "        self._validate_config()\n",
    "\n",
    "    def _validate_config(self):\n",
    "        \"\"\"Validate configuration parameters\"\"\"\n",
    "        if not self.config.source_URL.startswith(('http://', 'https://')):\n",
    "            raise DataIngestionError(f\"Invalid URL format: {self.config.source_URL}\")\n",
    "        \n",
    "        # Validate paths\n",
    "        if not isinstance(self.config.local_data_file, (str, Path)):\n",
    "            raise DataIngestionError(\"local_data_file must be a string or Path object\")\n",
    "\n",
    "        # Validate file extension\n",
    "        if not str(self.config.local_data_file).endswith('.csv'):\n",
    "            raise DataIngestionError(\"local_data_file must have .csv extension\")\n",
    "\n",
    "    def _validate_url(self) -> Tuple[bool, str]:\n",
    "        \"\"\"Validate if URL is accessible\"\"\"\n",
    "        try:\n",
    "            # Try to open the URL without downloading\n",
    "            with request.urlopen(self.config.source_URL) as response:\n",
    "                if response.code == 200:\n",
    "                    return True, \"URL is accessible\"\n",
    "        except urllib.error.HTTPError as e:\n",
    "            return False, f\"HTTP Error: {e.code} - {e.reason}\"\n",
    "        except urllib.error.URLError as e:\n",
    "            return False, f\"URL Error: {e.reason}\"\n",
    "        except Exception as e:\n",
    "            return False, f\"Error validating URL: {str(e)}\"\n",
    "        return False, \"Unknown error occurred while validating URL\"\n",
    "\n",
    "    def download_file(self):\n",
    "        \"\"\"Download CSV file from source URL with error handling\"\"\"\n",
    "        if os.path.exists(self.config.local_data_file):\n",
    "            file_size = getsize(self.config.local_data_file)\n",
    "            logging.info(f\"File already exists of size: {file_size} bytes\")\n",
    "            return\n",
    "\n",
    "        # Create directory if it doesn't exist\n",
    "        os.makedirs(os.path.dirname(self.config.local_data_file), exist_ok=True)\n",
    "\n",
    "        # Validate URL before attempting download\n",
    "        is_valid, message = self._validate_url()\n",
    "        if not is_valid:\n",
    "            raise DataIngestionError(f\"URL validation failed: {message}\")\n",
    "\n",
    "        try:\n",
    "            filename, headers = request.urlretrieve(\n",
    "                url=self.config.source_URL,\n",
    "                filename=self.config.local_data_file\n",
    "            )\n",
    "            logging.info(f\"File downloaded successfully to {filename}\")\n",
    "            logging.debug(f\"Download headers: {headers}\")\n",
    "            \n",
    "            # Validate that the downloaded file is a valid CSV\n",
    "            self._validate_csv_file(filename)\n",
    "            \n",
    "            return filename\n",
    "        except Exception as e:\n",
    "            raise DataIngestionError(f\"Error downloading file: {str(e)}\")\n",
    "\n",
    "    def _validate_csv_file(self, file_path):\n",
    "        \"\"\"Validate that the file is a proper CSV file\"\"\"\n",
    "        try:\n",
    "            # Try to read the first few rows to validate CSV format\n",
    "            df = pd.read_csv(file_path, nrows=5)\n",
    "            logging.info(f\"CSV file validated successfully. Shape: {df.shape}\")\n",
    "        except Exception as e:\n",
    "            raise DataIngestionError(f\"Invalid CSV file: {str(e)}\")\n",
    "\n",
    "    def get_data_frame(self):\n",
    "        \"\"\"Read the CSV file and return as pandas DataFrame\"\"\"\n",
    "        if not os.path.exists(self.config.local_data_file):\n",
    "            raise DataIngestionError(\"CSV file not found. Please download the file first.\")\n",
    "        \n",
    "        try:\n",
    "            df = pd.read_csv(self.config.local_data_file)\n",
    "            logging.info(f\"Data loaded successfully. Shape: {df.shape}\")\n",
    "            return df\n",
    "        except Exception as e:\n",
    "            raise DataIngestionError(f\"Error reading CSV file: {str(e)}\")\n",
    "\n",
    "    def run(self):\n",
    "        \"\"\"Run the complete data ingestion process\"\"\"\n",
    "        try:\n",
    "            logging.info(\"Starting data ingestion process...\")\n",
    "            self.download_file()\n",
    "            df = self.get_data_frame()\n",
    "            logging.info(\"Data ingestion completed successfully\")\n",
    "            return df\n",
    "        except Exception as e:\n",
    "            logging.error(f\"Data ingestion failed: {str(e)}\")\n",
    "            raise"
   ]
  },
  {
   "cell_type": "code",
   "execution_count": 8,
   "metadata": {},
   "outputs": [
    {
     "name": "stdout",
     "output_type": "stream",
     "text": [
      "[2025-01-06 09:09:12,948: INFO: common: yaml file: config/config.yaml loaded successfully]\n",
      "[2025-01-06 09:09:12,953: INFO: common: yaml file: params.yaml loaded successfully]\n",
      "[2025-01-06 09:09:12,955: INFO: common: yaml file: schema.yaml loaded successfully]\n",
      "[2025-01-06 09:09:12,957: INFO: common: created directory at: artifacts]\n",
      "[2025-01-06 09:09:12,958: INFO: common: created directory at: artifacts/data_ingestion]\n",
      "[2025-01-06 09:09:12,959: INFO: 2730692500: Starting data ingestion process...]\n",
      "[2025-01-06 09:09:14,365: INFO: 2730692500: File downloaded successfully to artifacts/data_ingestion/data.csv]\n",
      "[2025-01-06 09:09:14,384: INFO: 2730692500: CSV file validated successfully. Shape: (5, 10)]\n",
      "[2025-01-06 09:09:14,394: INFO: 2730692500: Data loaded successfully. Shape: (1000, 10)]\n",
      "[2025-01-06 09:09:14,397: INFO: 2730692500: Data ingestion completed successfully]\n"
     ]
    }
   ],
   "source": [
    "try:\n",
    "    config_mgr = ConfigurationManager()\n",
    "    data_ingestion_config = config_mgr.get_data_ingestion_config()\n",
    "    data_ingestion = DataIngestion(data_ingestion_config)\n",
    "    df = data_ingestion.run()\n",
    "except Exception as e:\n",
    "    raise e"
   ]
  },
  {
   "cell_type": "code",
   "execution_count": 9,
   "metadata": {},
   "outputs": [
    {
     "name": "stdout",
     "output_type": "stream",
     "text": [
      "[2025-01-06 09:09:14,413: INFO: common: yaml file: config/config.yaml loaded successfully]\n",
      "[2025-01-06 09:09:14,418: INFO: common: yaml file: params.yaml loaded successfully]\n",
      "[2025-01-06 09:09:14,419: INFO: common: yaml file: schema.yaml loaded successfully]\n",
      "[2025-01-06 09:09:14,421: INFO: common: created directory at: artifacts]\n",
      "[2025-01-06 09:09:14,423: INFO: common: created directory at: artifacts/data_ingestion]\n",
      "[2025-01-06 09:09:14,425: INFO: 2730692500: Starting data ingestion process...]\n",
      "[2025-01-06 09:09:14,426: INFO: 2730692500: File already exists of size: 95369 bytes]\n",
      "[2025-01-06 09:09:14,431: INFO: 2730692500: Data loaded successfully. Shape: (1000, 10)]\n",
      "[2025-01-06 09:09:14,432: INFO: 2730692500: Data ingestion completed successfully]\n",
      "\n",
      "Data ingestion completed successfully!\n",
      "DataFrame shape: (1000, 10)\n",
      "\n",
      "First few rows of the data:\n",
      "   adulteration_id product_name   brand   category             adulterant  \\\n",
      "0                1       Butter  BrandB       Meat  Artificial sweeteners   \n",
      "1                2      Chicken  BrandC      Dairy        Coloring agents   \n",
      "2                3       Yogurt  BrandC       Meat  Artificial sweeteners   \n",
      "3                4         Wine  BrandB  Beverages        Coloring agents   \n",
      "4                5        Bread  BrandD      Dairy                  Water   \n",
      "\n",
      "  detection_date          detection_method  severity health_risk  \\\n",
      "0      5/11/2024  Microbiological Analysis  Moderate         Low   \n",
      "1      5/23/2024        Sensory Evaluation    Severe      Medium   \n",
      "2      2/17/2024        Sensory Evaluation    Severe        High   \n",
      "3      5/16/2024              Spectroscopy     Minor      Medium   \n",
      "4       6/6/2024         Chemical Analysis    Severe      Medium   \n",
      "\n",
      "             action_taken  \n",
      "0          Product Recall  \n",
      "1          Warning Issued  \n",
      "2  Investigation Launched  \n",
      "3          Product Recall  \n",
      "4          Warning Issued  \n"
     ]
    }
   ],
   "source": [
    "try:\n",
    "    # Initialize configuration\n",
    "    config = ConfigurationManager()\n",
    "    data_ingestion_config = config.get_data_ingestion_config()\n",
    "    \n",
    "    # Create data ingestion object and run the process\n",
    "    data_ingestion = DataIngestion(config=data_ingestion_config)\n",
    "    df = data_ingestion.run()\n",
    "    \n",
    "    # Print basic information about the loaded data\n",
    "    print(f\"\\nData ingestion completed successfully!\")\n",
    "    print(f\"DataFrame shape: {df.shape}\")\n",
    "    print(\"\\nFirst few rows of the data:\")\n",
    "    print(df.head())\n",
    "    \n",
    "except Exception as e:\n",
    "    print(f\"Error during data ingestion: {str(e)}\")\n",
    "    raise e"
   ]
  },
  {
   "cell_type": "code",
   "execution_count": null,
   "metadata": {},
   "outputs": [],
   "source": []
  }
 ],
 "metadata": {
  "kernelspec": {
   "display_name": "completeds_env",
   "language": "python",
   "name": "python3"
  },
  "language_info": {
   "codemirror_mode": {
    "name": "ipython",
    "version": 3
   },
   "file_extension": ".py",
   "mimetype": "text/x-python",
   "name": "python",
   "nbconvert_exporter": "python",
   "pygments_lexer": "ipython3",
   "version": "3.10.0"
  }
 },
 "nbformat": 4,
 "nbformat_minor": 2
}
