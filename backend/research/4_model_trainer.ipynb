{
 "cells": [
  {
   "cell_type": "code",
   "execution_count": 1,
   "metadata": {},
   "outputs": [
    {
     "data": {
      "text/plain": [
       "'/Users/a/Documents/DataScience_World/ML10_end_to_end/dsproject/CompleteDSproject/research'"
      ]
     },
     "execution_count": 1,
     "metadata": {},
     "output_type": "execute_result"
    }
   ],
   "source": [
    "%pwd"
   ]
  },
  {
   "cell_type": "code",
   "execution_count": 2,
   "metadata": {},
   "outputs": [
    {
     "data": {
      "text/plain": [
       "'/Users/a/Documents/DataScience_World/ML10_end_to_end/dsproject/CompleteDSproject'"
      ]
     },
     "execution_count": 2,
     "metadata": {},
     "output_type": "execute_result"
    }
   ],
   "source": [
    "import os\n",
    "os.chdir(\"../\")\n",
    "%pwd\n"
   ]
  },
  {
   "cell_type": "code",
   "execution_count": 3,
   "metadata": {},
   "outputs": [],
   "source": [
    "from dataclasses import dataclass\n",
    "from pathlib import Path\n",
    "import os\n",
    "import pandas as pd\n",
    "import numpy as np\n",
    "from sklearn.model_selection import train_test_split\n",
    "from sklearn.ensemble import RandomForestClassifier\n",
    "from sklearn.metrics import accuracy_score, classification_report, confusion_matrix\n",
    "import joblib\n",
    "from src.datascience import logger\n",
    "from src.datascience.utils.common import read_yaml, create_directories, save_json\n",
    "from ensure import ensure_annotations\n",
    "from box import ConfigBox\n",
    "\n",
    "@dataclass\n",
    "class ModelTrainerConfig:\n",
    "    root_dir: Path\n",
    "    train_data_path: Path\n",
    "    model_path: Path\n",
    "    target_column: str\n",
    "    train_test_ratio: float\n",
    "    random_state: int\n",
    "    model_params: dict"
   ]
  },
  {
   "cell_type": "code",
   "execution_count": 4,
   "metadata": {},
   "outputs": [],
   "source": [
    "from src.datascience.constants import *\n",
    "from src.datascience.utils.common import read_yaml, create_directories"
   ]
  },
  {
   "cell_type": "code",
   "execution_count": 5,
   "metadata": {},
   "outputs": [],
   "source": [
    "from dataclasses import dataclass\n",
    "from pathlib import Path\n",
    "\n",
    "@dataclass\n",
    "class ConfigurationManager:\n",
    "    def __init__(\n",
    "        self,\n",
    "        config_filepath: Path = Path(\"config/config.yaml\"),\n",
    "        params_filepath: Path = Path(\"params.yaml\"),\n",
    "        schema_filepath: Path = Path(\"schema.yaml\")\n",
    "    ):\n",
    "        self.config = read_yaml(config_filepath)\n",
    "        self.params = read_yaml(params_filepath)\n",
    "        self.schema = read_yaml(schema_filepath)\n",
    "        \n",
    "        create_directories([self.config.artifacts_root])\n",
    "\n",
    "    def get_model_trainer_config(self) -> ModelTrainerConfig:\n",
    "        config = self.config.model_trainer\n",
    "        model_params = {\n",
    "            \"n_estimators\": config.model_params.n_estimators,\n",
    "            \"max_depth\": config.model_params.max_depth,\n",
    "            \"min_samples_split\": config.model_params.min_samples_split,\n",
    "            \"min_samples_leaf\": config.model_params.min_samples_leaf\n",
    "        }\n",
    "\n",
    "        create_directories([config.root_dir])\n",
    "\n",
    "        model_trainer_config = ModelTrainerConfig(\n",
    "            root_dir=Path(config.root_dir),\n",
    "            train_data_path=Path(self.config.data_transformation.transformed_data_path),\n",
    "            model_path=Path(config.root_dir) / \"model.joblib\",\n",
    "            target_column=config.target_column,\n",
    "            train_test_ratio=config.train_test_ratio,\n",
    "            random_state=config.random_state,\n",
    "            model_params=model_params\n",
    "        )\n",
    "\n",
    "        return model_trainer_config"
   ]
  },
  {
   "cell_type": "code",
   "execution_count": 6,
   "metadata": {},
   "outputs": [],
   "source": [
    "class ModelTrainer:\n",
    "    def __init__(self, config: ModelTrainerConfig):\n",
    "        self.config = config\n",
    "\n",
    "    def train(self):\n",
    "        try:\n",
    "            # Load transformed data\n",
    "            logger.info(\"Loading transformed data\")\n",
    "            data = pd.read_csv(self.config.train_data_path)\n",
    "\n",
    "            # Split features and target\n",
    "            X = data.drop(columns=[self.config.target_column], axis=1)\n",
    "            y = data[self.config.target_column]\n",
    "\n",
    "            # Split data into training and validation sets\n",
    "            X_train, X_val, y_train, y_val = train_test_split(\n",
    "                X, y,\n",
    "                test_size=self.config.train_test_ratio,\n",
    "                random_state=self.config.random_state\n",
    "            )\n",
    "\n",
    "            logger.info(\"Training Random Forest model\")\n",
    "            rf_classifier = RandomForestClassifier(\n",
    "                **self.config.model_params,\n",
    "                random_state=self.config.random_state\n",
    "            )\n",
    "\n",
    "            rf_classifier.fit(X_train, y_train)\n",
    "\n",
    "            # Make predictions on validation set\n",
    "            logger.info(\"Making predictions on validation set\")\n",
    "            y_pred = rf_classifier.predict(X_val)\n",
    "\n",
    "            # Calculate metrics\n",
    "            accuracy = accuracy_score(y_val, y_pred)\n",
    "            classification_rep = classification_report(y_val, y_pred, output_dict=True)\n",
    "            conf_matrix = confusion_matrix(y_val, y_pred)\n",
    "\n",
    "            # Save metrics\n",
    "            metrics = {\n",
    "                \"accuracy\": float(accuracy),  # Convert numpy float to Python float\n",
    "                \"classification_report\": classification_rep,\n",
    "                \"confusion_matrix\": conf_matrix.tolist()\n",
    "            }\n",
    "\n",
    "            # Save feature importances\n",
    "            feature_importance = pd.DataFrame({\n",
    "                'feature': X.columns,\n",
    "                'importance': rf_classifier.feature_importances_\n",
    "            }).sort_values('importance', ascending=False)\n",
    "\n",
    "            metrics['feature_importance'] = feature_importance.to_dict('records')\n",
    "\n",
    "            # Create directory if it doesn't exist\n",
    "            os.makedirs(self.config.root_dir, exist_ok=True)\n",
    "\n",
    "            # Save model and metrics\n",
    "            metrics_path = Path(self.config.root_dir) / \"metrics.json\"\n",
    "            save_json(metrics_path, metrics)\n",
    "            \n",
    "            joblib.dump(rf_classifier, self.config.model_path)\n",
    "\n",
    "            logger.info(f\"Model training completed. Accuracy: {accuracy:.4f}\")\n",
    "            \n",
    "            return metrics\n",
    "\n",
    "        except Exception as e:\n",
    "            logger.error(f\"Error in model training: {str(e)}\")\n",
    "            raise e\n",
    "\n"
   ]
  },
  {
   "cell_type": "code",
   "execution_count": 7,
   "metadata": {},
   "outputs": [
    {
     "name": "stdout",
     "output_type": "stream",
     "text": [
      "[2025-01-08 14:29:11,040: INFO: 2670371872: Starting model training pipeline]\n",
      "[2025-01-08 14:29:11,105: INFO: common: YAML file loaded successfully from: config/config.yaml]\n",
      "[2025-01-08 14:29:11,109: INFO: common: YAML file loaded successfully from: params.yaml]\n",
      "[2025-01-08 14:29:11,113: INFO: common: YAML file loaded successfully from: schema.yaml]\n",
      "[2025-01-08 14:29:11,114: INFO: common: Created directory at: artifacts]\n",
      "[2025-01-08 14:29:11,115: INFO: common: Created directory at: artifacts/model_trainer]\n",
      "[2025-01-08 14:29:11,116: INFO: 3941991833: Loading transformed data]\n",
      "[2025-01-08 14:29:11,139: INFO: 3941991833: Training Random Forest model]\n",
      "[2025-01-08 14:29:11,356: INFO: 3941991833: Making predictions on validation set]\n",
      "[2025-01-08 14:29:11,389: INFO: common: JSON file saved successfully at: artifacts/model_trainer/metrics.json]\n",
      "[2025-01-08 14:29:11,457: INFO: 3941991833: Model training completed. Accuracy: 0.3400]\n",
      "[2025-01-08 14:29:11,458: INFO: 2670371872: Model training completed successfully]\n",
      "[2025-01-08 14:29:11,459: INFO: 2670371872: Model accuracy: 0.3400]\n"
     ]
    }
   ],
   "source": [
    "try:\n",
    "    logger.info(\"Starting model training pipeline\")\n",
    "    config_manager = ConfigurationManager()\n",
    "    model_trainer_config = config_manager.get_model_trainer_config()\n",
    "    model_trainer = ModelTrainer(model_trainer_config)\n",
    "        \n",
    "    metrics = model_trainer.train()\n",
    "    logger.info(\"Model training completed successfully\")\n",
    "    logger.info(f\"Model accuracy: {metrics['accuracy']:.4f}\")\n",
    "        \n",
    "except Exception as e:\n",
    "    logger.error(f\"Error in model training: {str(e)}\")\n",
    "    raise e\n"
   ]
  },
  {
   "cell_type": "code",
   "execution_count": null,
   "metadata": {},
   "outputs": [],
   "source": []
  }
 ],
 "metadata": {
  "kernelspec": {
   "display_name": "completeds_env",
   "language": "python",
   "name": "python3"
  },
  "language_info": {
   "codemirror_mode": {
    "name": "ipython",
    "version": 3
   },
   "file_extension": ".py",
   "mimetype": "text/x-python",
   "name": "python",
   "nbconvert_exporter": "python",
   "pygments_lexer": "ipython3",
   "version": "3.10.0"
  }
 },
 "nbformat": 4,
 "nbformat_minor": 2
}
